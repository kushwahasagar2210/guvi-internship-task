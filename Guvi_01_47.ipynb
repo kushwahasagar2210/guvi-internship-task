{
  "nbformat": 4,
  "nbformat_minor": 0,
  "metadata": {
    "colab": {
      "provenance": []
    },
    "kernelspec": {
      "name": "python3",
      "display_name": "Python 3"
    },
    "language_info": {
      "name": "python"
    }
  },
  "cells": [
    {
      "cell_type": "code",
      "execution_count": 2,
      "metadata": {
        "colab": {
          "base_uri": "https://localhost:8080/"
        },
        "id": "c3LFaI0ERTAT",
        "outputId": "66e7bf57-5929-4370-f930-5ab11933e9ce"
      },
      "outputs": [
        {
          "output_type": "stream",
          "name": "stdout",
          "text": [
            "Original Data Shape: (891, 12)\n",
            "First 5 rows:\n",
            "    PassengerId  Survived  Pclass  \\\n",
            "0            1         0       3   \n",
            "1            2         1       1   \n",
            "2            3         1       3   \n",
            "3            4         1       1   \n",
            "4            5         0       3   \n",
            "\n",
            "                                                Name     Sex   Age  SibSp  \\\n",
            "0                            Braund, Mr. Owen Harris    male  22.0      1   \n",
            "1  Cumings, Mrs. John Bradley (Florence Briggs Th...  female  38.0      1   \n",
            "2                             Heikkinen, Miss. Laina  female  26.0      0   \n",
            "3       Futrelle, Mrs. Jacques Heath (Lily May Peel)  female  35.0      1   \n",
            "4                           Allen, Mr. William Henry    male  35.0      0   \n",
            "\n",
            "   Parch            Ticket     Fare Cabin Embarked  \n",
            "0      0         A/5 21171   7.2500   NaN        S  \n",
            "1      0          PC 17599  71.2833   C85        C  \n",
            "2      0  STON/O2. 3101282   7.9250   NaN        S  \n",
            "3      0            113803  53.1000  C123        S  \n",
            "4      0            373450   8.0500   NaN        S  \n",
            "\n",
            "Cleaned Data Shape: (891, 12)\n",
            "\n",
            "Cleaned Dataset Sample:\n",
            "    PassengerId  Survived  Pclass  \\\n",
            "0            1         0       3   \n",
            "1            2         1       1   \n",
            "2            3         1       3   \n",
            "3            4         1       1   \n",
            "4            5         0       3   \n",
            "\n",
            "                                      Passenger_Name  Gender  Age  \\\n",
            "0                            Braund, Mr. Owen Harris    male   22   \n",
            "1  Cumings, Mrs. John Bradley (Florence Briggs Th...  female   38   \n",
            "2                             Heikkinen, Miss. Laina  female   26   \n",
            "3       Futrelle, Mrs. Jacques Heath (Lily May Peel)  female   35   \n",
            "4                           Allen, Mr. William Henry    male   35   \n",
            "\n",
            "   Siblings_Spouses_Aboard  Parents_Children_Aboard            Ticket  \\\n",
            "0                        1                        0         A/5 21171   \n",
            "1                        1                        0          PC 17599   \n",
            "2                        0                        0  STON/O2. 3101282   \n",
            "3                        1                        0            113803   \n",
            "4                        0                        0            373450   \n",
            "\n",
            "      Fare    Cabin Embarked  \n",
            "0   7.2500  Unknown        S  \n",
            "1  71.2833      C85        C  \n",
            "2   7.9250  Unknown        S  \n",
            "3  53.1000     C123        S  \n",
            "4   8.0500  Unknown        S  \n"
          ]
        },
        {
          "output_type": "stream",
          "name": "stderr",
          "text": [
            "/tmp/ipython-input-2-1794188132.py:11: FutureWarning: A value is trying to be set on a copy of a DataFrame or Series through chained assignment using an inplace method.\n",
            "The behavior will change in pandas 3.0. This inplace method will never work because the intermediate object on which we are setting values always behaves as a copy.\n",
            "\n",
            "For example, when doing 'df[col].method(value, inplace=True)', try using 'df.method({col: value}, inplace=True)' or df[col] = df[col].method(value) instead, to perform the operation inplace on the original object.\n",
            "\n",
            "\n",
            "  df['Age'].fillna(df['Age'].mean(), inplace=True)\n",
            "/tmp/ipython-input-2-1794188132.py:12: FutureWarning: A value is trying to be set on a copy of a DataFrame or Series through chained assignment using an inplace method.\n",
            "The behavior will change in pandas 3.0. This inplace method will never work because the intermediate object on which we are setting values always behaves as a copy.\n",
            "\n",
            "For example, when doing 'df[col].method(value, inplace=True)', try using 'df.method({col: value}, inplace=True)' or df[col] = df[col].method(value) instead, to perform the operation inplace on the original object.\n",
            "\n",
            "\n",
            "  df['Embarked'].fillna(df['Embarked'].mode()[0], inplace=True)\n",
            "/tmp/ipython-input-2-1794188132.py:13: FutureWarning: A value is trying to be set on a copy of a DataFrame or Series through chained assignment using an inplace method.\n",
            "The behavior will change in pandas 3.0. This inplace method will never work because the intermediate object on which we are setting values always behaves as a copy.\n",
            "\n",
            "For example, when doing 'df[col].method(value, inplace=True)', try using 'df.method({col: value}, inplace=True)' or df[col] = df[col].method(value) instead, to perform the operation inplace on the original object.\n",
            "\n",
            "\n",
            "  df['Cabin'].fillna('Unknown', inplace=True)\n"
          ]
        }
      ],
      "source": [
        "import pandas as pd\n",
        "\n",
        "url = \"https://raw.githubusercontent.com/datasciencedojo/datasets/master/titanic.csv\"\n",
        "df = pd.read_csv(url)\n",
        "\n",
        "print(\"Original Data Shape:\", df.shape)\n",
        "print(\"First 5 rows:\\n\", df.head())\n",
        "\n",
        "# Step 2: Drop or Fill Missing Values\n",
        "\n",
        "df['Age'].fillna(df['Age'].mean(), inplace=True)\n",
        "df['Embarked'].fillna(df['Embarked'].mode()[0], inplace=True)\n",
        "df['Cabin'].fillna('Unknown', inplace=True)\n",
        "\n",
        "# Step 3: Convert Column Data Types\n",
        "\n",
        "df['Age'] = df['Age'].astype(int)\n",
        "\n",
        "# Step 4: Remove Duplicate Rows\n",
        "\n",
        "df = df.drop_duplicates()\n",
        "\n",
        "# Step 5: Rename Columns for clarity\n",
        "df.rename(columns={\n",
        "    'Name': 'Passenger_Name',\n",
        "    'Sex': 'Gender',\n",
        "    'SibSp': 'Siblings_Spouses_Aboard',\n",
        "    'Parch': 'Parents_Children_Aboard'\n",
        "}, inplace=True)\n",
        "\n",
        "# Final cleaned dataset\n",
        "print(\"\\nCleaned Data Shape:\", df.shape)\n",
        "print(\"\\nCleaned Dataset Sample:\\n\", df.head())\n",
        "\n",
        "\n"
      ]
    }
  ]
}